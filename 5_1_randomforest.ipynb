{
  "cells": [
    {
      "cell_type": "markdown",
      "metadata": {
        "colab_type": "text",
        "id": "d-IAJLC2k1NX"
      },
      "source": [
        "# 5.1 ランダムフォレストとは\n",
        "\n",
        "本ファイルは、5.1節の実装です。\n",
        "\n",
        "機械学習モデルのランダムフォレストを解説・実装します。\n",
        "決定木の分類、決定木の回帰、ランダムフォレストの分類、ランダムフォレストの回帰を実施します"
      ]
    },
    {
      "cell_type": "markdown",
      "metadata": {
        "colab_type": "text",
        "id": "2XdIDbdlejUk"
      },
      "source": [
        "## プログラム実行前の設定など"
      ]
    },
    {
      "cell_type": "code",
      "execution_count": null,
      "metadata": {
        "colab": {},
        "colab_type": "code",
        "id": "wqHjwstVeXYt"
      },
      "outputs": [],
      "source": [
        "# 乱数のシードを設定\n",
        "import random\n",
        "import numpy as np\n",
        "\n",
        "np.random.seed(1234)\n",
        "random.seed(1234)\n"
      ]
    },
    {
      "cell_type": "code",
      "execution_count": null,
      "metadata": {
        "colab": {},
        "colab_type": "code",
        "id": "RIhcLRqlem3V"
      },
      "outputs": [],
      "source": [
        "# 使用するパッケージ（ライブラリと関数）を定義\n",
        "# 標準正規分布の生成用\n",
        "from numpy.random import *\n",
        "\n",
        "# グラフの描画用\n",
        "import matplotlib.pyplot as plt\n",
        "\n",
        "# SciPy 平均0、分散1に正規化（標準化）関数\n",
        "import scipy.stats\n",
        "\n",
        "# シグモイド関数をimport\n",
        "from scipy.special import expit\n",
        "\n",
        "# その他\n",
        "import pandas as pd\n"
      ]
    },
    {
      "cell_type": "markdown",
      "metadata": {
        "colab_type": "text",
        "id": "AWqP6yeQlI_t"
      },
      "source": [
        "## データの作成"
      ]
    },
    {
      "cell_type": "code",
      "execution_count": null,
      "metadata": {
        "colab": {},
        "colab_type": "code",
        "id": "EJaQIHz4fNXb"
      },
      "outputs": [],
      "source": [
        "# データ数\n",
        "num_data = 200\n",
        "\n",
        "# 年齢\n",
        "x_1 = randint(15, 76, num_data)  # 15から75歳の一様乱数\n",
        "\n",
        "# 性別（0を女性、1を男性とします）\n",
        "x_2 = randint(0, 2, num_data)  # 0か1の乱数\n"
      ]
    },
    {
      "cell_type": "markdown",
      "metadata": {
        "colab_type": "text",
        "id": "JiT_gc5ZmAQa"
      },
      "source": [
        "## テレビCMを見たかどうか"
      ]
    },
    {
      "cell_type": "code",
      "execution_count": null,
      "metadata": {
        "colab": {},
        "colab_type": "code",
        "id": "hfPbhhm6gvW6"
      },
      "outputs": [],
      "source": [
        "# ノイズの生成\n",
        "e_z = randn(num_data)\n",
        "\n",
        "# シグモイド関数に入れる部分\n",
        "z_base = x_1 + (1-x_2)*10 - 40 + 5*e_z\n",
        "\n",
        "# シグモイド関数を計算\n",
        "z_prob = expit(0.1*z_base)\n",
        "\n",
        "# テレビCMを見たかどうかの変数（0は見ていない、1は見た）\n",
        "Z = np.array([])\n",
        "\n",
        "for i in range(num_data):\n",
        "    Z_i = np.random.choice(2, size=1, p=[1-z_prob[i], z_prob[i]])[0]\n",
        "    Z = np.append(Z, Z_i)\n"
      ]
    },
    {
      "cell_type": "markdown",
      "metadata": {
        "colab_type": "text",
        "id": "b2PLquJGi2Te"
      },
      "source": [
        "## 購入量Yを作成"
      ]
    },
    {
      "cell_type": "code",
      "execution_count": null,
      "metadata": {
        "colab": {},
        "colab_type": "code",
        "id": "nv-ELtFqi5L5"
      },
      "outputs": [],
      "source": [
        "# ノイズの生成\n",
        "e_y = randn(num_data)\n",
        "\n",
        "Y = -x_1 + 30*x_2 + 10*Z + 80 + 10*e_y\n"
      ]
    },
    {
      "cell_type": "markdown",
      "metadata": {
        "colab_type": "text",
        "id": "BHcdUlW9koTa"
      },
      "source": [
        "## データをまとめた表を作成し、平均値を比べる"
      ]
    },
    {
      "cell_type": "code",
      "execution_count": 6,
      "metadata": {
        "colab": {
          "base_uri": "https://localhost:8080/",
          "height": 195
        },
        "colab_type": "code",
        "id": "HPqwrISXktRj",
        "outputId": "472a7556-d2c0-4341-f570-d101075ca857"
      },
      "outputs": [
        {
          "data": {
            "text/html": [
              "<div>\n",
              "<style scoped>\n",
              "    .dataframe tbody tr th:only-of-type {\n",
              "        vertical-align: middle;\n",
              "    }\n",
              "\n",
              "    .dataframe tbody tr th {\n",
              "        vertical-align: top;\n",
              "    }\n",
              "\n",
              "    .dataframe thead th {\n",
              "        text-align: right;\n",
              "    }\n",
              "</style>\n",
              "<table border=\"1\" class=\"dataframe\">\n",
              "  <thead>\n",
              "    <tr style=\"text-align: right;\">\n",
              "      <th></th>\n",
              "      <th>年齢</th>\n",
              "      <th>性別</th>\n",
              "      <th>CMを見た</th>\n",
              "      <th>購入量</th>\n",
              "    </tr>\n",
              "  </thead>\n",
              "  <tbody>\n",
              "    <tr>\n",
              "      <th>0</th>\n",
              "      <td>62</td>\n",
              "      <td>0</td>\n",
              "      <td>1.0</td>\n",
              "      <td>24.464285</td>\n",
              "    </tr>\n",
              "    <tr>\n",
              "      <th>1</th>\n",
              "      <td>34</td>\n",
              "      <td>0</td>\n",
              "      <td>0.0</td>\n",
              "      <td>45.693411</td>\n",
              "    </tr>\n",
              "    <tr>\n",
              "      <th>2</th>\n",
              "      <td>53</td>\n",
              "      <td>1</td>\n",
              "      <td>1.0</td>\n",
              "      <td>64.998281</td>\n",
              "    </tr>\n",
              "    <tr>\n",
              "      <th>3</th>\n",
              "      <td>68</td>\n",
              "      <td>1</td>\n",
              "      <td>1.0</td>\n",
              "      <td>47.186898</td>\n",
              "    </tr>\n",
              "    <tr>\n",
              "      <th>4</th>\n",
              "      <td>27</td>\n",
              "      <td>1</td>\n",
              "      <td>0.0</td>\n",
              "      <td>100.114260</td>\n",
              "    </tr>\n",
              "  </tbody>\n",
              "</table>\n",
              "</div>"
            ],
            "text/plain": [
              "   年齢  性別  CMを見た         購入量\n",
              "0  62   0    1.0   24.464285\n",
              "1  34   0    0.0   45.693411\n",
              "2  53   1    1.0   64.998281\n",
              "3  68   1    1.0   47.186898\n",
              "4  27   1    0.0  100.114260"
            ]
          },
          "execution_count": 6,
          "metadata": {
            "tags": []
          },
          "output_type": "execute_result"
        }
      ],
      "source": [
        "df = pd.DataFrame({'年齢': x_1,\n",
        "                   '性別': x_2,\n",
        "                   'CMを見た': Z,\n",
        "                   '購入量': Y,\n",
        "                   })\n",
        "\n",
        "df.head()  # 先頭を表示\n"
      ]
    },
    {
      "cell_type": "code",
      "execution_count": 7,
      "metadata": {
        "colab": {
          "base_uri": "https://localhost:8080/",
          "height": 202
        },
        "colab_type": "code",
        "id": "HHInQ1Sukrg0",
        "outputId": "66879f86-ad4f-46cc-9a20-8edf74c860e1"
      },
      "outputs": [
        {
          "name": "stdout",
          "output_type": "stream",
          "text": [
            "年齢       55.836066\n",
            "性別        0.483607\n",
            "CMを見た     1.000000\n",
            "購入量      49.711478\n",
            "dtype: float64\n",
            "--------\n",
            "年齢       32.141026\n",
            "性別        0.692308\n",
            "CMを見た     0.000000\n",
            "購入量      68.827143\n",
            "dtype: float64\n"
          ]
        }
      ],
      "source": [
        "# 平均値を比べる\n",
        "\n",
        "print(df[df[\"CMを見た\"] == 1.0].mean())\n",
        "print(\"--------\")\n",
        "print(df[df[\"CMを見た\"] == 0.0].mean())\n"
      ]
    },
    {
      "cell_type": "markdown",
      "metadata": {
        "colab_type": "text",
        "id": "kwKOk59aogBd"
      },
      "source": [
        "## 決定木で分類\n",
        "\n",
        "決定木でCMを見たかどうかを分類予測するモデルを構築します"
      ]
    },
    {
      "cell_type": "code",
      "execution_count": 8,
      "metadata": {
        "colab": {
          "base_uri": "https://localhost:8080/",
          "height": 67
        },
        "colab_type": "code",
        "id": "rBtHC3smoiMC",
        "outputId": "1b5ab97b-27f8-42fe-dc8b-995d9f6b5d0d"
      },
      "outputs": [
        {
          "name": "stdout",
          "output_type": "stream",
          "text": [
            "深さ1の性能： 0.85\n",
            "深さ2の性能： 0.85\n",
            "深さ3の性能： 0.825\n"
          ]
        }
      ],
      "source": [
        "# scikit-learnから決定木の分類をimport\n",
        "# https://scikit-learn.org/stable/modules/generated/sklearn.tree.DecisionTreeClassifier.html\n",
        "from sklearn.tree import DecisionTreeClassifier\n",
        "\n",
        "# データを訓練と検証に分割する\n",
        "# https://scikit-learn.org/stable/modules/generated/sklearn.model_selection.train_test_split.html\n",
        "from sklearn.model_selection import train_test_split\n",
        "\n",
        "\n",
        "# 説明変数\n",
        "X = df[[\"年齢\", \"性別\"]]\n",
        "\n",
        "# 被説明変数（目的変数）\n",
        "Z = df[\"CMを見た\"]\n",
        "\n",
        "# データを訓練と検証に分割\n",
        "X_train, X_val, Z_train, Z_val = train_test_split(\n",
        "    X, Z, train_size=0.6, random_state=0)\n",
        "\n",
        "# 学習と性能確認\n",
        "clf = DecisionTreeClassifier(max_depth=1, random_state=0)\n",
        "clf.fit(X_train, Z_train)\n",
        "print(\"深さ1の性能：\", clf.score(X_val, Z_val))  # 正解率を表示\n",
        "\n",
        "# 学習と性能確認\n",
        "clf = DecisionTreeClassifier(max_depth=2, random_state=0)\n",
        "clf.fit(X_train, Z_train)\n",
        "print(\"深さ2の性能：\", clf.score(X_val, Z_val))  # 正解率を表示\n",
        "\n",
        "# 学習と性能確認\n",
        "clf = DecisionTreeClassifier(max_depth=3, random_state=0)\n",
        "clf.fit(X_train, Z_train)\n",
        "print(\"深さ3の性能：\", clf.score(X_val, Z_val))  # 正解率を表示\n"
      ]
    },
    {
      "cell_type": "markdown",
      "metadata": {
        "colab_type": "text",
        "id": "-KMbYTvx-D4N"
      },
      "source": [
        "## 決定木で回帰\n",
        "\n",
        "決定木で購入量を回帰予測するモデルを構築します"
      ]
    },
    {
      "cell_type": "code",
      "execution_count": 9,
      "metadata": {
        "colab": {
          "base_uri": "https://localhost:8080/",
          "height": 67
        },
        "colab_type": "code",
        "id": "CiVVt59d-gdj",
        "outputId": "93ee9046-b983-4dbb-d8cb-2d86c14bf7f2"
      },
      "outputs": [
        {
          "name": "stdout",
          "output_type": "stream",
          "text": [
            "深さ2の性能： 0.7257496664596153\n",
            "深さ3の性能： 0.7399348963931736\n",
            "深さ4の性能： 0.7165539691159019\n"
          ]
        }
      ],
      "source": [
        "# scikit-learnから決定木の回帰をimport\n",
        "# https://scikit-learn.org/stable/modules/generated/sklearn.tree.DecisionTreeRegressor.html#sklearn.tree.DecisionTreeRegressor\n",
        "from sklearn.tree import DecisionTreeRegressor\n",
        "\n",
        "# データを訓練と検証に分割する\n",
        "# https://scikit-learn.org/stable/modules/generated/sklearn.model_selection.train_test_split.html\n",
        "from sklearn.model_selection import train_test_split\n",
        "\n",
        "\n",
        "# 説明変数\n",
        "X = df[[\"年齢\", \"性別\"]]\n",
        "\n",
        "# 被説明変数（目的変数）\n",
        "Y = df[\"購入量\"]\n",
        "\n",
        "# データを訓練と検証に分割\n",
        "X_train, X_val, Y_train, Y_val = train_test_split(\n",
        "    X, Y, train_size=0.6, random_state=0)\n",
        "\n",
        "# 学習と性能確認\n",
        "reg = DecisionTreeRegressor(max_depth=2, random_state=0)\n",
        "reg = reg.fit(X_train, Y_train)\n",
        "print(\"深さ2の性能：\", reg.score(X_val, Y_val))  # 決定係数R2を表示\n",
        "\n",
        "# 学習と性能確認\n",
        "reg = DecisionTreeRegressor(max_depth=3, random_state=0)\n",
        "reg = reg.fit(X_train, Y_train)\n",
        "print(\"深さ3の性能：\", reg.score(X_val, Y_val))  # 決定係数R2を表示\n",
        "\n",
        "# 学習と性能確認\n",
        "reg = DecisionTreeRegressor(max_depth=4, random_state=0)\n",
        "reg = reg.fit(X_train, Y_train)\n",
        "print(\"深さ4の性能：\", reg.score(X_val, Y_val))  # 決定係数R2を表示\n"
      ]
    },
    {
      "cell_type": "markdown",
      "metadata": {
        "colab_type": "text",
        "id": "1LHqDZTHyMeA"
      },
      "source": [
        "## ランダムフォレストで分類\n",
        "\n",
        "ランダムフォレストでCMを見たかどうかを分類予測するモデルを構築します"
      ]
    },
    {
      "cell_type": "code",
      "execution_count": 10,
      "metadata": {
        "colab": {
          "base_uri": "https://localhost:8080/",
          "height": 67
        },
        "colab_type": "code",
        "id": "QZCX_vszyRIF",
        "outputId": "fcc9656b-0c0f-4884-d682-992ba88bb9a7"
      },
      "outputs": [
        {
          "name": "stdout",
          "output_type": "stream",
          "text": [
            "深さ1の性能： 0.775\n",
            "深さ2の性能： 0.85\n",
            "深さ3の性能： 0.825\n"
          ]
        }
      ],
      "source": [
        "# scikit-learnからランダムフォレストの分類をimport\n",
        "# https://scikit-learn.org/stable/modules/generated/sklearn.ensemble.RandomForestClassifier.html?highlight=randomforest\n",
        "from sklearn.ensemble import RandomForestClassifier\n",
        "from sklearn.model_selection import train_test_split\n",
        "\n",
        "# 説明変数\n",
        "X = df[[\"年齢\", \"性別\"]]\n",
        "\n",
        "# 被説明変数（目的変数）\n",
        "Z = df[\"CMを見た\"]\n",
        "\n",
        "# データを訓練と検証に分割\n",
        "X_train, X_val, Z_train, Z_val = train_test_split(\n",
        "    X, Z, train_size=0.6, random_state=0)\n",
        "\n",
        "# 学習と性能確認\n",
        "clf = RandomForestClassifier(max_depth=1, random_state=0)\n",
        "clf.fit(X_train, Z_train)\n",
        "print(\"深さ1の性能：\", clf.score(X_val, Z_val))  # 正解率を表示\n",
        "\n",
        "# 学習と性能確認\n",
        "clf = RandomForestClassifier(max_depth=2, random_state=0)\n",
        "clf.fit(X_train, Z_train)\n",
        "print(\"深さ2の性能：\", clf.score(X_val, Z_val))  # 正解率を表示\n",
        "\n",
        "# 学習と性能確認\n",
        "clf = RandomForestClassifier(max_depth=3, random_state=0)\n",
        "clf.fit(X_train, Z_train)\n",
        "print(\"深さ3の性能：\", clf.score(X_val, Z_val))  # 正解率を表示\n"
      ]
    },
    {
      "cell_type": "markdown",
      "metadata": {
        "colab_type": "text",
        "id": "OuTwc5Kt4AiW"
      },
      "source": [
        "## ランダムフォレストで回帰\n",
        "\n",
        "ランダムフォレストで購入量を回帰予測するモデルを構築します"
      ]
    },
    {
      "cell_type": "code",
      "execution_count": 11,
      "metadata": {
        "colab": {
          "base_uri": "https://localhost:8080/",
          "height": 67
        },
        "colab_type": "code",
        "id": "evnAhZnb4DXj",
        "outputId": "1b439677-66ce-49dc-8760-70916ab7d2fc"
      },
      "outputs": [
        {
          "name": "stdout",
          "output_type": "stream",
          "text": [
            "深さ2の性能： 0.7618786062003249\n",
            "深さ3の性能： 0.7810610687821996\n",
            "深さ4の性能： 0.7655149049335735\n"
          ]
        }
      ],
      "source": [
        "# scikit-learnから決定木の回帰をimport\n",
        "# https://scikit-learn.org/stable/modules/generated/sklearn.ensemble.RandomForestRegressor.html?highlight=randomforest\n",
        "from sklearn.ensemble import RandomForestRegressor\n",
        "from sklearn.model_selection import train_test_split\n",
        "\n",
        "\n",
        "# 説明変数\n",
        "X = df[[\"年齢\", \"性別\"]]\n",
        "\n",
        "# 被説明変数（目的変数）\n",
        "Y = df[\"購入量\"]\n",
        "\n",
        "# データを訓練と検証に分割\n",
        "X_train, X_val, Y_train, Y_val = train_test_split(\n",
        "    X, Y, train_size=0.6, random_state=0)\n",
        "\n",
        "# 学習と性能確認\n",
        "reg = RandomForestRegressor(max_depth=2, random_state=0)\n",
        "reg = reg.fit(X_train, Y_train)\n",
        "print(\"深さ2の性能：\", reg.score(X_val, Y_val))  # 決定係数R2を表示\n",
        "\n",
        "# 学習と性能確認\n",
        "reg = RandomForestRegressor(max_depth=3, random_state=0)\n",
        "reg = reg.fit(X_train, Y_train)\n",
        "print(\"深さ3の性能：\", reg.score(X_val, Y_val))  # 決定係数R2を表示\n",
        "\n",
        "# 学習と性能確認\n",
        "reg = RandomForestRegressor(max_depth=4, random_state=0)\n",
        "reg = reg.fit(X_train, Y_train)\n",
        "print(\"深さ4の性能：\", reg.score(X_val, Y_val))  # 決定係数R2を表示\n"
      ]
    },
    {
      "cell_type": "markdown",
      "metadata": {
        "colab_type": "text",
        "id": "1IdVhXmMps-w"
      },
      "source": [
        "以上"
      ]
    }
  ],
  "metadata": {
    "colab": {
      "collapsed_sections": [],
      "name": "5_1_randomforest.ipynb",
      "provenance": []
    },
    "kernelspec": {
      "display_name": "venv",
      "language": "python",
      "name": "python3"
    },
    "language_info": {
      "name": "python",
      "version": "3.7.6 (default, Jan  8 2020, 13:42:34) \n[Clang 4.0.1 (tags/RELEASE_401/final)]"
    },
    "vscode": {
      "interpreter": {
        "hash": "cfa50979a7771829469dd2d410563e07666e6c5b9e78628e47658dba5a2c0f96"
      }
    }
  },
  "nbformat": 4,
  "nbformat_minor": 0
}
