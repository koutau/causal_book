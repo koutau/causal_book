{
  "cells": [
    {
      "cell_type": "markdown",
      "metadata": {
        "colab_type": "text",
        "id": "VQXhIfZRu7bb"
      },
      "source": [
        "# 1.3 Google Colaboratoryを用いたPythonプログラミング：疑似相関の確認\n",
        "\n",
        "本ファイルでは、1.2節で紹介した疑似相関が生まれる3パターン（因果が逆、共通の原因：交絡、合流点での選抜）を、実際にPythonでプログラミングして確認します。"
      ]
    },
    {
      "cell_type": "markdown",
      "metadata": {
        "colab_type": "text",
        "id": "P3r9Dbdug3Zz"
      },
      "source": [
        "## プログラム実行前の設定など"
      ]
    },
    {
      "cell_type": "code",
      "execution_count": null,
      "metadata": {
        "colab": {},
        "colab_type": "code",
        "id": "YgbDBCAoUx3u"
      },
      "outputs": [],
      "source": [
        "# 乱数のシードを固定\n",
        "import random\n",
        "import numpy as np\n",
        "\n",
        "random.seed(1234)\n",
        "np.random.seed(1234)\n"
      ]
    },
    {
      "cell_type": "code",
      "execution_count": null,
      "metadata": {
        "colab": {},
        "colab_type": "code",
        "id": "HIK5zUKjVjwD"
      },
      "outputs": [],
      "source": [
        "# 使用するパッケージ（ライブラリと関数）を定義\n",
        "# SciPy 平均0、分散1に正規化（標準化）関数\n",
        "import scipy.stats\n",
        "\n",
        "# 標準正規分布の生成用\n",
        "from numpy.random import randn\n",
        "\n",
        "# グラフの描画用\n",
        "import matplotlib.pyplot as plt\n",
        "%matplotlib inline\n"
      ]
    },
    {
      "cell_type": "markdown",
      "metadata": {
        "colab_type": "text",
        "id": "taEvjTYeXnTp"
      },
      "source": [
        "## 0. ZからYへ因果が存在する場合（通常の因果と相関）\n"
      ]
    },
    {
      "cell_type": "code",
      "execution_count": null,
      "metadata": {
        "colab": {},
        "colab_type": "code",
        "id": "e19euWfrXnTo"
      },
      "outputs": [],
      "source": [
        "# ノイズの生成\n",
        "num_data = 200\n",
        "e_z = randn(num_data)\n",
        "e_y = randn(num_data)\n",
        "\n",
        "# データの生成\n",
        "Z = e_z\n",
        "Y = 2*Z + e_y\n"
      ]
    },
    {
      "cell_type": "code",
      "execution_count": null,
      "metadata": {
        "colab": {
          "base_uri": "https://localhost:8080/",
          "height": 52
        },
        "colab_type": "code",
        "id": "155MXhLlXnTl",
        "outputId": "a9201dc3-6a22-428b-9cab-2f53ad11072f"
      },
      "outputs": [
        {
          "data": {
            "text/plain": [
              "array([[1.        , 0.89379611],\n",
              "       [0.89379611, 1.        ]])"
            ]
          },
          "execution_count": 4,
          "metadata": {
            "tags": []
          },
          "output_type": "execute_result"
        }
      ],
      "source": [
        "# 相関係数を求める\n",
        "np.corrcoef(Z, Y)\n"
      ]
    },
    {
      "cell_type": "code",
      "execution_count": null,
      "metadata": {
        "colab": {
          "base_uri": "https://localhost:8080/",
          "height": 282
        },
        "colab_type": "code",
        "id": "uhxETB8sXnTb",
        "outputId": "33736eec-2cbd-4382-e495-40999ade7b91"
      },
      "outputs": [
        {
          "data": {
            "text/plain": [
              "<matplotlib.collections.PathCollection at 0x7f50b8823d30>"
            ]
          },
          "execution_count": 5,
          "metadata": {
            "tags": []
          },
          "output_type": "execute_result"
        },
        {
          "data": {
            "image/png": "[encoded data removed]",
            "text/plain": [
              "<Figure size 432x288 with 1 Axes>"
            ]
          },
          "metadata": {
            "tags": []
          },
          "output_type": "display_data"
        }
      ],
      "source": [
        "# 標準化\n",
        "Z_std = scipy.stats.zscore(Z)\n",
        "Y_std = scipy.stats.zscore(Y)\n",
        "\n",
        "# 散布図を描画\n",
        "plt.scatter(Z_std, Y_std)\n"
      ]
    },
    {
      "cell_type": "markdown",
      "metadata": {
        "colab_type": "text",
        "id": "sYR8NTK9Xpkb"
      },
      "source": [
        "# 1. 疑似相関：因果が逆\n"
      ]
    },
    {
      "cell_type": "code",
      "execution_count": null,
      "metadata": {
        "colab": {
          "base_uri": "https://localhost:8080/",
          "height": 52
        },
        "colab_type": "code",
        "id": "w5N1wvWiXpkc",
        "outputId": "6491ce36-d5cd-4d7a-f5ad-995077705ce5"
      },
      "outputs": [
        {
          "data": {
            "text/plain": [
              "array([[1.        , 0.90390263],\n",
              "       [0.90390263, 1.        ]])"
            ]
          },
          "execution_count": 6,
          "metadata": {
            "tags": []
          },
          "output_type": "execute_result"
        }
      ],
      "source": [
        "# ノイズの生成\n",
        "num_data = 200\n",
        "e_z = randn(num_data)\n",
        "e_y = randn(num_data)\n",
        "\n",
        "# データの生成\n",
        "Y = e_y\n",
        "Z = 2*Y + e_z\n",
        "\n",
        "# 相関係数を求める\n",
        "np.corrcoef(Z, Y)\n"
      ]
    },
    {
      "cell_type": "code",
      "execution_count": null,
      "metadata": {
        "colab": {
          "base_uri": "https://localhost:8080/",
          "height": 282
        },
        "colab_type": "code",
        "id": "0mgFdiNGXpkl",
        "outputId": "35f70926-7e8d-4d0e-9c3f-5f1d6f89fb63"
      },
      "outputs": [
        {
          "data": {
            "text/plain": [
              "<matplotlib.collections.PathCollection at 0x7f50b5b72898>"
            ]
          },
          "execution_count": 7,
          "metadata": {
            "tags": []
          },
          "output_type": "execute_result"
        },
        {
          "data": {
            "image/png": "[encoded data removed]",
            "text/plain": [
              "<Figure size 432x288 with 1 Axes>"
            ]
          },
          "metadata": {
            "tags": []
          },
          "output_type": "display_data"
        }
      ],
      "source": [
        "# 標準化\n",
        "Z_std = scipy.stats.zscore(Z)\n",
        "Y_std = scipy.stats.zscore(Y)\n",
        "\n",
        "# 散布図を描画\n",
        "plt.scatter(Z_std, Y_std)\n"
      ]
    },
    {
      "cell_type": "markdown",
      "metadata": {
        "colab_type": "text",
        "id": "nW3lHT8baGGd"
      },
      "source": [
        "# 2. 疑似相関：共通の原因（交絡）\n"
      ]
    },
    {
      "cell_type": "code",
      "execution_count": null,
      "metadata": {
        "colab": {
          "base_uri": "https://localhost:8080/",
          "height": 52
        },
        "colab_type": "code",
        "id": "VV6Y6VOoaGGg",
        "outputId": "ba1d3b5b-d7aa-475c-b821-4afc0a7114ae"
      },
      "outputs": [
        {
          "data": {
            "text/plain": [
              "array([[1.        , 0.90572419],\n",
              "       [0.90572419, 1.        ]])"
            ]
          },
          "execution_count": 8,
          "metadata": {
            "tags": []
          },
          "output_type": "execute_result"
        }
      ],
      "source": [
        "# ノイズの生成\n",
        "num_data = 200\n",
        "e_x = randn(num_data)\n",
        "e_y = randn(num_data)\n",
        "e_z = randn(num_data)\n",
        "\n",
        "# データの生成\n",
        "Z = 3.3*e_x + e_z\n",
        "Y = 3.3*e_x + e_y\n",
        "\n",
        "# 相関係数を求める\n",
        "np.corrcoef(Z, Y)\n"
      ]
    },
    {
      "cell_type": "code",
      "execution_count": null,
      "metadata": {
        "colab": {
          "base_uri": "https://localhost:8080/",
          "height": 282
        },
        "colab_type": "code",
        "id": "yRzrQfzjaGGp",
        "outputId": "398f560e-68ef-4f14-ca45-dd5a13a4b239"
      },
      "outputs": [
        {
          "data": {
            "text/plain": [
              "<matplotlib.collections.PathCollection at 0x7f50b5ade2e8>"
            ]
          },
          "execution_count": 9,
          "metadata": {
            "tags": []
          },
          "output_type": "execute_result"
        },
        {
          "data": {
            "image/png": "[encoded data removed]",
            "text/plain": [
              "<Figure size 432x288 with 1 Axes>"
            ]
          },
          "metadata": {
            "tags": []
          },
          "output_type": "display_data"
        }
      ],
      "source": [
        "# 標準化\n",
        "Z_std = scipy.stats.zscore(Z)\n",
        "Y_std = scipy.stats.zscore(Y)\n",
        "\n",
        "# 散布図を描画\n",
        "plt.scatter(Z_std, Y_std)\n"
      ]
    },
    {
      "cell_type": "markdown",
      "metadata": {
        "colab_type": "text",
        "id": "3qAbjVueaqa-"
      },
      "source": [
        "# 3. 疑似相関：合流点での選抜\n",
        "\n"
      ]
    },
    {
      "cell_type": "code",
      "execution_count": null,
      "metadata": {
        "colab": {
          "base_uri": "https://localhost:8080/",
          "height": 282
        },
        "colab_type": "code",
        "id": "c6oCMPXZaqbE",
        "outputId": "bd8cca29-26d7-4ef2-c180-3f58e5ff6340"
      },
      "outputs": [
        {
          "data": {
            "text/plain": [
              "<matplotlib.collections.PathCollection at 0x7f50b5aafef0>"
            ]
          },
          "execution_count": 10,
          "metadata": {
            "tags": []
          },
          "output_type": "execute_result"
        },
        {
          "data": {
            "image/png": "[encoded data removed]",
            "text/plain": [
              "<Figure size 432x288 with 1 Axes>"
            ]
          },
          "metadata": {
            "tags": []
          },
          "output_type": "display_data"
        }
      ],
      "source": [
        "# ノイズの生成\n",
        "num_data = 600\n",
        "e_x = randn(num_data)\n",
        "e_y = randn(num_data)\n",
        "\n",
        "# データの生成 1\n",
        "x = e_x\n",
        "y = e_y\n",
        "\n",
        "# 散布図を描画\n",
        "plt.scatter(x, y)\n"
      ]
    },
    {
      "cell_type": "code",
      "execution_count": null,
      "metadata": {
        "colab": {
          "base_uri": "https://localhost:8080/",
          "height": 52
        },
        "colab_type": "code",
        "id": "8QnH-TXSeVmF",
        "outputId": "52af3b59-f8ba-4aae-df4e-6544123e2e3c"
      },
      "outputs": [
        {
          "data": {
            "text/plain": [
              "array([[1.        , 0.00996848],\n",
              "       [0.00996848, 1.        ]])"
            ]
          },
          "execution_count": 11,
          "metadata": {
            "tags": []
          },
          "output_type": "execute_result"
        }
      ],
      "source": [
        "# 相関係数を求める\n",
        "np.corrcoef(x, y)\n"
      ]
    },
    {
      "cell_type": "code",
      "execution_count": null,
      "metadata": {
        "colab": {
          "base_uri": "https://localhost:8080/",
          "height": 282
        },
        "colab_type": "code",
        "id": "FwsqmncZfH5X",
        "outputId": "a4720a28-ba94-4ec1-c61c-ed22bfb2d403"
      },
      "outputs": [
        {
          "data": {
            "text/plain": [
              "<matplotlib.collections.PathCollection at 0x7f50b5a19f98>"
            ]
          },
          "execution_count": 12,
          "metadata": {
            "tags": []
          },
          "output_type": "execute_result"
        },
        {
          "data": {
            "image/png": "[encoded data removed]",
            "text/plain": [
              "<Figure size 432x288 with 1 Axes>"
            ]
          },
          "metadata": {
            "tags": []
          },
          "output_type": "display_data"
        }
      ],
      "source": [
        "# 合流点を作成\n",
        "z = x + y\n",
        "\n",
        "# 新たな合流点での条件を満たす変数の用意\n",
        "x_new = np.array([])\n",
        "y_new = np.array([])\n",
        "\n",
        "# zの値が0以上で選抜してnew変数に追加（append）します\n",
        "for i in range(num_data):\n",
        "  if z[i] > 0.0:\n",
        "    x_new = np.append(x_new, x[i])\n",
        "    y_new = np.append(y_new, y[i])\n",
        "\n",
        "# 散布図を描画\n",
        "plt.scatter(x_new, y_new)\n"
      ]
    },
    {
      "cell_type": "code",
      "execution_count": null,
      "metadata": {
        "colab": {
          "base_uri": "https://localhost:8080/",
          "height": 52
        },
        "colab_type": "code",
        "id": "3rnlM5zzaqbL",
        "outputId": "c5721260-9423-415c-bb6f-5964b22934d1"
      },
      "outputs": [
        {
          "data": {
            "text/plain": [
              "array([[ 1.        , -0.48132747],\n",
              "       [-0.48132747,  1.        ]])"
            ]
          },
          "execution_count": 13,
          "metadata": {
            "tags": []
          },
          "output_type": "execute_result"
        }
      ],
      "source": [
        "# 相関係数を求める\n",
        "np.corrcoef(x_new, y_new)\n"
      ]
    },
    {
      "cell_type": "markdown",
      "metadata": {
        "colab_type": "text",
        "id": "qgLJlLgQ9tud"
      },
      "source": [
        "以上。"
      ]
    }
  ],
  "metadata": {
    "colab": {
      "collapsed_sections": [],
      "name": "1_3_pseudo_correlation.ipynb",
      "provenance": []
    },
    "kernelspec": {
      "display_name": "base",
      "language": "python",
      "name": "python3"
    },
    "language_info": {
      "name": "python",
      "version": "3.7.6 (default, Jan  8 2020, 13:42:34) \n[Clang 4.0.1 (tags/RELEASE_401/final)]"
    },
    "vscode": {
      "interpreter": {
        "hash": "40d3a090f54c6569ab1632332b64b2c03c39dcf918b08424e98f38b5ae0af88f"
      }
    }
  },
  "nbformat": 4,
  "nbformat_minor": 0
}
